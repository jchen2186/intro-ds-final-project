{
 "cells": [
  {
   "cell_type": "code",
   "execution_count": 4,
   "metadata": {
    "collapsed": true
   },
   "outputs": [
    {
     "name": "stdout",
     "output_type": "stream",
     "text": [
      "Requirement already satisfied: matplotlib in c:\\users\\jwong008\\code\\datasc~1\\finalp~1\\venv~1\\lib\\site-packages (3.0.2)\n",
      "Requirement already satisfied: python-dateutil>=2.1 in c:\\users\\jwong008\\code\\datasc~1\\finalp~1\\venv~1\\lib\\site-packages (from matplotlib) (2.7.5)\n",
      "Requirement already satisfied: pyparsing!=2.0.4,!=2.1.2,!=2.1.6,>=2.0.1 in c:\\users\\jwong008\\code\\datasc~1\\finalp~1\\venv~1\\lib\\site-packages (from matplotlib) (2.3.0)\n",
      "Requirement already satisfied: cycler>=0.10 in c:\\users\\jwong008\\code\\datasc~1\\finalp~1\\venv~1\\lib\\site-packages (from matplotlib) (0.10.0)\n",
      "Requirement already satisfied: kiwisolver>=1.0.1 in c:\\users\\jwong008\\code\\datasc~1\\finalp~1\\venv~1\\lib\\site-packages (from matplotlib) (1.0.1)\n",
      "Requirement already satisfied: numpy>=1.10.0 in c:\\users\\jwong008\\code\\datasc~1\\finalp~1\\venv~1\\lib\\site-packages (from matplotlib) (1.15.4)\n",
      "Requirement already satisfied: six>=1.5 in c:\\users\\jwong008\\code\\datasc~1\\finalp~1\\venv~1\\lib\\site-packages (from python-dateutil>=2.1->matplotlib) (1.12.0)\n",
      "Requirement already satisfied: setuptools in c:\\users\\jwong008\\code\\datasc~1\\finalp~1\\venv~1\\lib\\site-packages (from kiwisolver>=1.0.1->matplotlib) (40.6.2)\n",
      "Requirement already satisfied: numpy in c:\\users\\jwong008\\code\\datasc~1\\finalp~1\\venv~1\\lib\\site-packages (1.15.4)\n",
      "Collecting seaborn\n",
      "  Downloading https://files.pythonhosted.org/packages/a8/76/220ba4420459d9c4c9c9587c6ce607bf56c25b3d3d2de62056efe482dadc/seaborn-0.9.0-py3-none-any.whl (208kB)\n",
      "Requirement already satisfied: numpy>=1.9.3 in c:\\users\\jwong008\\code\\datasc~1\\finalp~1\\venv~1\\lib\\site-packages (from seaborn) (1.15.4)\n",
      "Requirement already satisfied: matplotlib>=1.4.3 in c:\\users\\jwong008\\code\\datasc~1\\finalp~1\\venv~1\\lib\\site-packages (from seaborn) (3.0.2)\n",
      "Collecting scipy>=0.14.0 (from seaborn)\n",
      "  Using cached https://files.pythonhosted.org/packages/e8/08/6ceee982af40b23566016e29a7a81ed258e739d2d718e03049446c3ccf31/scipy-1.1.0-cp37-none-win32.whl\n",
      "Collecting pandas>=0.15.2 (from seaborn)\n",
      "  Downloading https://files.pythonhosted.org/packages/26/fc/d0509d445d2724fbc5f9c9a6fc9ce7da794873469739b6c94afc166ac2a2/pandas-0.23.4-cp37-cp37m-win32.whl (6.8MB)\n",
      "Requirement already satisfied: pyparsing!=2.0.4,!=2.1.2,!=2.1.6,>=2.0.1 in c:\\users\\jwong008\\code\\datasc~1\\finalp~1\\venv~1\\lib\\site-packages (from matplotlib>=1.4.3->seaborn) (2.3.0)\n",
      "Requirement already satisfied: kiwisolver>=1.0.1 in c:\\users\\jwong008\\code\\datasc~1\\finalp~1\\venv~1\\lib\\site-packages (from matplotlib>=1.4.3->seaborn) (1.0.1)\n",
      "Requirement already satisfied: cycler>=0.10 in c:\\users\\jwong008\\code\\datasc~1\\finalp~1\\venv~1\\lib\\site-packages (from matplotlib>=1.4.3->seaborn) (0.10.0)\n",
      "Requirement already satisfied: python-dateutil>=2.1 in c:\\users\\jwong008\\code\\datasc~1\\finalp~1\\venv~1\\lib\\site-packages (from matplotlib>=1.4.3->seaborn) (2.7.5)\n",
      "Collecting pytz>=2011k (from pandas>=0.15.2->seaborn)\n",
      "  Downloading https://files.pythonhosted.org/packages/f8/0e/2365ddc010afb3d79147f1dd544e5ee24bf4ece58ab99b16fbb465ce6dc0/pytz-2018.7-py2.py3-none-any.whl (506kB)\n",
      "Requirement already satisfied: setuptools in c:\\users\\jwong008\\code\\datasc~1\\finalp~1\\venv~1\\lib\\site-packages (from kiwisolver>=1.0.1->matplotlib>=1.4.3->seaborn) (40.6.2)\n",
      "Requirement already satisfied: six in c:\\users\\jwong008\\code\\datasc~1\\finalp~1\\venv~1\\lib\\site-packages (from cycler>=0.10->matplotlib>=1.4.3->seaborn) (1.12.0)\n",
      "Installing collected packages: scipy, pytz, pandas, seaborn\n",
      "Successfully installed pandas-0.23.4 pytz-2018.7 scipy-1.1.0 seaborn-0.9.0\n"
     ]
    }
   ],
   "source": [
    "!pip install matplotlib\n",
    "!pip install numpy\n",
    "!pip install seaborn"
   ]
  },
  {
   "cell_type": "code",
   "execution_count": 37,
   "metadata": {
    "scrolled": true
   },
   "outputs": [],
   "source": [
    "%matplotlib inline\n",
    "\n",
    "import pandas as pd\n",
    "import numpy as np\n",
    "import matplotlib.pyplot as plt\n",
    "import seaborn as sns\n",
    "import os"
   ]
  },
  {
   "cell_type": "markdown",
   "metadata": {},
   "source": [
    "# Data Cleaning\n",
    "Here, we remove the notes and citations at the bottom of the data"
   ]
  },
  {
   "cell_type": "code",
   "execution_count": 113,
   "metadata": {
    "collapsed": true
   },
   "outputs": [
    {
     "name": "stdout",
     "output_type": "stream",
     "text": [
      "Alabama.txt 6\n",
      "Alaska.txt 6\n",
      "Arizona.txt 6\n",
      "Arkansas.txt 6\n",
      "California.txt 6\n",
      "Colorado.txt 6\n",
      "Connecticut.txt 6\n",
      "DC.txt 6\n",
      "Delaware.txt 6\n",
      "Florida.txt 6\n",
      "Georgia.txt 6\n",
      "Hawaii.txt 6\n",
      "Idaho.txt 6\n",
      "Illinois.txt 6\n",
      "Indiana.txt 6\n",
      "Iowa.txt 6\n",
      "Kansas.txt 6\n",
      "Kentucky.txt 6\n",
      "Louisiana.txt 6\n",
      "Maine.txt 6\n",
      "Maryland.txt 6\n",
      "Massachusetts.txt 6\n",
      "missouri.txt 6\n",
      "MN.txt 6\n",
      "montana.txt 6\n",
      "MS.txt 6\n",
      "M⁬ichigan.txt 6\n",
      "nc.txt 6\n",
      "nd.txt 6\n",
      "nebraska.txt 6\n",
      "Nevada.txt 6\n",
      "NH.txt 6\n",
      "nj (2).txt 6\n",
      "nm.txt 6\n",
      "ny.txt 6\n",
      "og.txt 6\n",
      "ohio'.txt 6\n",
      "ok.txt 6\n",
      "pn.txt 6\n",
      "ri.txt 6\n",
      "sc.txt 6\n",
      "sd.txt 6\n",
      "tn.txt 6\n",
      "tx.txt 6\n",
      "ut.txt 6\n",
      "vg.txt 6\n",
      "vm.txt 6\n",
      "wa.txt 6\n",
      "wi.txt 6\n",
      "wv.txt 6\n",
      "wy.txt 6\n"
     ]
    }
   ],
   "source": [
    "files = os.listdir('raw_data/mortality')\n",
    "for file in files:\n",
    "    with open('raw_data/mortality/' + file, 'r+') as f:\n",
    "        a = f.read()\n",
    "        \n",
    "    split_ = a.split('\"---\"')\n",
    "    print(file, a.count('\"---\"'))\n",
    "    with open('data/mortality/' + file, 'w+') as f:\n",
    "        f.write(split_[0])"
   ]
  },
  {
   "cell_type": "markdown",
   "metadata": {},
   "source": [
    "Then, we can read from each txt/csv file and concatenate the DataFrames after reading them using the Pandas library."
   ]
  },
  {
   "cell_type": "code",
   "execution_count": null,
   "metadata": {},
   "outputs": [],
   "source": [
    "combine_files = False"
   ]
  },
  {
   "cell_type": "code",
   "execution_count": null,
   "metadata": {},
   "outputs": [],
   "source": [
    "if combine_files:\n",
    "    files = os.listdir('data/mortality')\n",
    "    # with open('data/mortality/master.txt', 'w+') as f:\n",
    "    with open('data/mortality/Alabama.txt', 'r') as g:\n",
    "    #         f.write(g.read())\n",
    "        df = pd.read_csv('data/mortality/Alabama.txt', sep='\\t', lineterminator='\\r', encoding = \"utf-8\")\n",
    "    for file in files[1:]:\n",
    "        if file == 'combined':\n",
    "            continue\n",
    "    #     with open('data/mortality/' + file, 'r') as h:\n",
    "    #             f.writelines(h.readlines()[1:])\n",
    "        print(file)\n",
    "        next_df = pd.read_csv('data/mortality/' + file, sep='\\t', lineterminator='\\r', encoding = 'ISO-8859-1')\n",
    "        df = pd.concat([df, next_df])\n",
    "    df.to_csv('data/mortality/combined/master.csv', mode='w', sep='\\t', encoding='utf-8')"
   ]
  },
  {
   "cell_type": "markdown",
   "metadata": {},
   "source": [
    "We can test if the combined csv works here."
   ]
  },
  {
   "cell_type": "code",
   "execution_count": 173,
   "metadata": {},
   "outputs": [],
   "source": [
    "# test = pd.read_csv('data/mortality/combined/master.csv', sep='\\t', engine='python', encoding='utf-8')"
   ]
  },
  {
   "cell_type": "markdown",
   "metadata": {},
   "source": [
    "Let's describe the DataFrame and see how many deaths are recorded in this dataset."
   ]
  },
  {
   "cell_type": "code",
   "execution_count": 171,
   "metadata": {},
   "outputs": [
    {
     "data": {
      "text/html": [
       "<div>\n",
       "<style scoped>\n",
       "    .dataframe tbody tr th:only-of-type {\n",
       "        vertical-align: middle;\n",
       "    }\n",
       "\n",
       "    .dataframe tbody tr th {\n",
       "        vertical-align: top;\n",
       "    }\n",
       "\n",
       "    .dataframe thead th {\n",
       "        text-align: right;\n",
       "    }\n",
       "</style>\n",
       "<table border=\"1\" class=\"dataframe\">\n",
       "  <thead>\n",
       "    <tr style=\"text-align: right;\">\n",
       "      <th></th>\n",
       "      <th>Deaths</th>\n",
       "      <th>Population</th>\n",
       "      <th>State Code</th>\n",
       "      <th>Year</th>\n",
       "      <th>Year Code</th>\n",
       "    </tr>\n",
       "  </thead>\n",
       "  <tbody>\n",
       "    <tr>\n",
       "      <th>count</th>\n",
       "      <td>299256.000000</td>\n",
       "      <td>2.992560e+05</td>\n",
       "      <td>299256.000000</td>\n",
       "      <td>299256.000000</td>\n",
       "      <td>299256.000000</td>\n",
       "    </tr>\n",
       "    <tr>\n",
       "      <th>mean</th>\n",
       "      <td>151.719468</td>\n",
       "      <td>9.465143e+06</td>\n",
       "      <td>28.637802</td>\n",
       "      <td>2008.179515</td>\n",
       "      <td>2008.179515</td>\n",
       "    </tr>\n",
       "    <tr>\n",
       "      <th>std</th>\n",
       "      <td>599.703516</td>\n",
       "      <td>8.814195e+06</td>\n",
       "      <td>15.519940</td>\n",
       "      <td>5.516246</td>\n",
       "      <td>5.516246</td>\n",
       "    </tr>\n",
       "    <tr>\n",
       "      <th>min</th>\n",
       "      <td>10.000000</td>\n",
       "      <td>4.917800e+05</td>\n",
       "      <td>1.000000</td>\n",
       "      <td>1999.000000</td>\n",
       "      <td>1999.000000</td>\n",
       "    </tr>\n",
       "    <tr>\n",
       "      <th>25%</th>\n",
       "      <td>15.000000</td>\n",
       "      <td>3.670883e+06</td>\n",
       "      <td>16.000000</td>\n",
       "      <td>2003.000000</td>\n",
       "      <td>2003.000000</td>\n",
       "    </tr>\n",
       "    <tr>\n",
       "      <th>50%</th>\n",
       "      <td>29.000000</td>\n",
       "      <td>6.332669e+06</td>\n",
       "      <td>28.000000</td>\n",
       "      <td>2008.000000</td>\n",
       "      <td>2008.000000</td>\n",
       "    </tr>\n",
       "    <tr>\n",
       "      <th>75%</th>\n",
       "      <td>86.000000</td>\n",
       "      <td>1.226380e+07</td>\n",
       "      <td>42.000000</td>\n",
       "      <td>2013.000000</td>\n",
       "      <td>2013.000000</td>\n",
       "    </tr>\n",
       "    <tr>\n",
       "      <th>max</th>\n",
       "      <td>27659.000000</td>\n",
       "      <td>3.953665e+07</td>\n",
       "      <td>56.000000</td>\n",
       "      <td>2017.000000</td>\n",
       "      <td>2017.000000</td>\n",
       "    </tr>\n",
       "  </tbody>\n",
       "</table>\n",
       "</div>"
      ],
      "text/plain": [
       "              Deaths    Population     State Code           Year  \\\n",
       "count  299256.000000  2.992560e+05  299256.000000  299256.000000   \n",
       "mean      151.719468  9.465143e+06      28.637802    2008.179515   \n",
       "std       599.703516  8.814195e+06      15.519940       5.516246   \n",
       "min        10.000000  4.917800e+05       1.000000    1999.000000   \n",
       "25%        15.000000  3.670883e+06      16.000000    2003.000000   \n",
       "50%        29.000000  6.332669e+06      28.000000    2008.000000   \n",
       "75%        86.000000  1.226380e+07      42.000000    2013.000000   \n",
       "max     27659.000000  3.953665e+07      56.000000    2017.000000   \n",
       "\n",
       "           Year Code  \n",
       "count  299256.000000  \n",
       "mean     2008.179515  \n",
       "std         5.516246  \n",
       "min      1999.000000  \n",
       "25%      2003.000000  \n",
       "50%      2008.000000  \n",
       "75%      2013.000000  \n",
       "max      2017.000000  "
      ]
     },
     "execution_count": 171,
     "metadata": {},
     "output_type": "execute_result"
    }
   ],
   "source": [
    "df.describe()"
   ]
  },
  {
   "cell_type": "code",
   "execution_count": 176,
   "metadata": {
    "collapsed": true
   },
   "outputs": [
    {
     "data": {
      "text/plain": [
       "California              15890\n",
       "Texas                   13621\n",
       "Florida                 12910\n",
       "New York                11790\n",
       "Pennsylvania            10839\n",
       "Ohio                    10408\n",
       "Illinois                10190\n",
       "Michigan                 9218\n",
       "North Carolina           8901\n",
       "Georgia                  8422\n",
       "New Jersey               7839\n",
       "Virginia                 7575\n",
       "Tennessee                7560\n",
       "Indiana                  7251\n",
       "Washington               7232\n",
       "Missouri                 7009\n",
       "Massachusetts            6706\n",
       "Wisconsin                6635\n",
       "Arizona                  6473\n",
       "Maryland                 6303\n",
       "South Carolina           6262\n",
       "Alabama                  6222\n",
       "Minnesota                6186\n",
       "Kentucky                 5787\n",
       "Louisiana                5734\n",
       "Colorado                 5541\n",
       "Oregon                   5531\n",
       "Oklahoma                 5103\n",
       "Iowa                     4815\n",
       "Mississippi              4769\n",
       "Connecticut              4746\n",
       "Arkansas                 4631\n",
       "Kansas                   4443\n",
       "West Virginia            3904\n",
       "Nevada                   3657\n",
       "New Mexico               3644\n",
       "Utah                     3466\n",
       "Nebraska                 3443\n",
       "Maine                    2997\n",
       "Idaho                    2922\n",
       "Montana                  2597\n",
       "New Hampshire            2589\n",
       "Hawaii                   2556\n",
       "Rhode Island             2367\n",
       "Delaware                 2210\n",
       "South Dakota             2086\n",
       "North Dakota             1820\n",
       "District of Columbia     1707\n",
       "Vermont                  1680\n",
       "Wyoming                  1600\n",
       "Alaska                   1469\n",
       "Name: State, dtype: int64"
      ]
     },
     "execution_count": 176,
     "metadata": {},
     "output_type": "execute_result"
    }
   ],
   "source": [
    "df['State'].value_counts()"
   ]
  },
  {
   "cell_type": "code",
   "execution_count": null,
   "metadata": {},
   "outputs": [],
   "source": [
    "# TODO: Get the max underlying cause of death for each state"
   ]
  },
  {
   "cell_type": "code",
   "execution_count": 181,
   "metadata": {},
   "outputs": [
    {
     "data": {
      "text/plain": [
       "State    Underlying Cause of death                                                                                                                  \n",
       "Alabama  Abdomen - Malignant neoplasms                                                                                                                    22.0\n",
       "         Abdominal aortic aneurysm, ruptured                                                                                                              73.0\n",
       "         Abdominal aortic aneurysm, without mention of rupture                                                                                            61.0\n",
       "         Abnormal findings on diagnostic imaging of lung                                                                                                  13.0\n",
       "         Accidental poisoning by and exposure to alcohol                                                                                                  26.0\n",
       "         Accidental poisoning by and exposure to antiepileptic, sedative-hypnotic, antiparkinsonism and psychotropic drugs, not elsewhere classified      65.0\n",
       "         Accidental poisoning by and exposure to narcotics and psychodysleptics [hallucinogens], not elsewhere classified                                262.0\n",
       "         Accidental poisoning by and exposure to nonopioid analgesics, antipyretics and antirheumatics                                                    13.0\n",
       "         Accidental poisoning by and exposure to other and unspecified drugs, medicaments and biological substances                                      431.0\n",
       "         Accidental poisoning by and exposure to other gases and vapours                                                                                  29.0\n",
       "         Accidental suffocation and strangulation in bed                                                                                                  20.0\n",
       "         Acidosis                                                                                                                                         52.0\n",
       "         Acute and subacute hepatic failure                                                                                                               20.0\n",
       "         Acute and subacute infective endocarditis                                                                                                        30.0\n",
       "         Acute cholecystitis                                                                                                                              26.0\n",
       "         Acute hepatitis B without delta-agent and without hepatic coma                                                                                   14.0\n",
       "         Acute hepatitis C                                                                                                                                69.0\n",
       "         Acute ischaemic heart disease, unspecified                                                                                                       33.0\n",
       "         Acute leukaemia of unspecified cell type - Malignant neoplasms                                                                                   41.0\n",
       "         Acute lymphoblastic leukaemia - Malignant neoplasms                                                                                              27.0\n",
       "         Acute myeloid leukaemia - Malignant neoplasms                                                                                                   151.0\n",
       "         Acute myocardial infarction, unspecified                                                                                                       3820.0\n",
       "         Acute pancreatitis                                                                                                                               86.0\n",
       "         Acute pancreatitis, unspecified                                                                                                                  79.0\n",
       "         Acute peritonitis                                                                                                                                20.0\n",
       "         Acute posthaemorrhagic anaemia                                                                                                                   12.0\n",
       "         Acute renal failure, unspecified                                                                                                                246.0\n",
       "         Acute respiratory failure                                                                                                                       120.0\n",
       "         Acute subendocardial myocardial infarction                                                                                                       98.0\n",
       "         Acute vascular disorders of intestine                                                                                                            82.0\n",
       "                                                                                                                                                         ...  \n",
       "Wyoming  Person injured in collision between other specified motor vehicles (traffic)                                                                     25.0\n",
       "         Person injured in unspecified motor-vehicle accident, traffic                                                                                    63.0\n",
       "         Phlebitis and thrombophlebitis of other deep vessels of lower extremities                                                                        11.0\n",
       "         Pneumonia, unspecified                                                                                                                          115.0\n",
       "         Pneumonitis due to food and vomit                                                                                                                57.0\n",
       "         Primary pulmonary hypertension                                                                                                                   20.0\n",
       "         Pulmonary embolism without mention of acute cor pulmonale                                                                                        35.0\n",
       "         Respiratory failure, unspecified                                                                                                                 23.0\n",
       "         Rheumatoid arthritis, unspecified                                                                                                                11.0\n",
       "         Senility                                                                                                                                         18.0\n",
       "         Septicaemia, unspecified                                                                                                                         63.0\n",
       "         Sequelae of other and unspecified cerebrovascular diseases                                                                                       20.0\n",
       "         Sequelae of stroke, not specified as haemorrhage or infarction                                                                                   15.0\n",
       "         Stomach, unspecified - Malignant neoplasms                                                                                                       19.0\n",
       "         Stroke, not specified as haemorrhage or infarction                                                                                              164.0\n",
       "         Subarachnoid haemorrhage, unspecified                                                                                                            18.0\n",
       "         Subdural haemorrhage (acute)(nontraumatic)                                                                                                       12.0\n",
       "         Sudden cardiac death, so described                                                                                                               15.0\n",
       "         Unspecified dementia                                                                                                                            206.0\n",
       "         Unspecified diabetes mellitus, with peripheral circulatory complications                                                                         10.0\n",
       "         Unspecified diabetes mellitus, with renal complications                                                                                          23.0\n",
       "         Unspecified diabetes mellitus, without complications                                                                                             79.0\n",
       "         Unspecified fall                                                                                                                                 40.0\n",
       "         Unspecified protein-energy malnutrition                                                                                                          10.0\n",
       "         Unspecified renal failure                                                                                                                        56.0\n",
       "         Unspecified severe protein-energy malnutrition                                                                                                   10.0\n",
       "         Urinary tract infection, site not specified                                                                                                      31.0\n",
       "         Vascular dementia, unspecified                                                                                                                   20.0\n",
       "         Vascular disorder of intestine, unspecified                                                                                                      15.0\n",
       "         Volume depletion                                                                                                                                 15.0\n",
       "Name: Deaths, Length: 26160, dtype: float64"
      ]
     },
     "execution_count": 181,
     "metadata": {},
     "output_type": "execute_result"
    }
   ],
   "source": [
    "df.groupby(['State', 'Underlying Cause of death'])['Deaths'].max()"
   ]
  },
  {
   "cell_type": "code",
   "execution_count": 109,
   "metadata": {},
   "outputs": [],
   "source": [
    "df = df.dropna()\n",
    "df = df.sort_values(by='Deaths', ascending=False)"
   ]
  },
  {
   "cell_type": "markdown",
   "metadata": {},
   "source": [
    "We should convert the year column to an integer value as a float type doesn't make sense."
   ]
  },
  {
   "cell_type": "code",
   "execution_count": 111,
   "metadata": {},
   "outputs": [],
   "source": [
    "df['Year'] = df['Year'].astype(int)"
   ]
  },
  {
   "cell_type": "code",
   "execution_count": 112,
   "metadata": {},
   "outputs": [
    {
     "data": {
      "text/plain": [
       "Year\n",
       "2017    50519.0\n",
       "2016    49840.0\n",
       "2015    49308.0\n",
       "2014    47662.0\n",
       "2013    47608.0\n",
       "2012    46790.0\n",
       "2011    46057.0\n",
       "2010    45529.0\n",
       "2008    44971.0\n",
       "2009    44830.0\n",
       "2005    44411.0\n",
       "2006    44326.0\n",
       "2007    44180.0\n",
       "2003    44029.0\n",
       "2004    43432.0\n",
       "2002    43403.0\n",
       "2001    42700.0\n",
       "2000    42231.0\n",
       "1999    42141.0\n",
       "Name: Deaths, dtype: float64"
      ]
     },
     "execution_count": 112,
     "metadata": {},
     "output_type": "execute_result"
    }
   ],
   "source": [
    "df['Deaths'].groupby(df['Year']).sum().sort_values(ascending=False)"
   ]
  }
 ],
 "metadata": {
  "kernelspec": {
   "display_name": "Python 3",
   "language": "python",
   "name": "python3"
  },
  "language_info": {
   "codemirror_mode": {
    "name": "ipython",
    "version": 3
   },
   "file_extension": ".py",
   "mimetype": "text/x-python",
   "name": "python",
   "nbconvert_exporter": "python",
   "pygments_lexer": "ipython3",
   "version": "3.7.1"
  }
 },
 "nbformat": 4,
 "nbformat_minor": 2
}
