{
 "cells": [
  {
   "cell_type": "code",
   "execution_count": 1,
   "metadata": {},
   "outputs": [],
   "source": [
    "#!pip install matplotlib\n",
    "#!pip install numpy\n",
    "#!pip install seaborn"
   ]
  },
  {
   "cell_type": "code",
   "execution_count": 2,
   "metadata": {
    "scrolled": true
   },
   "outputs": [],
   "source": [
    "%matplotlib inline\n",
    "\n",
    "import pandas as pd\n",
    "import numpy as np\n",
    "import matplotlib.pyplot as plt\n",
    "import seaborn as sns\n",
    "import os"
   ]
  },
  {
   "cell_type": "markdown",
   "metadata": {},
   "source": [
    "# Data Cleaning\n",
    "Here, we remove the notes and citations at the bottom of the data"
   ]
  },
  {
   "cell_type": "code",
   "execution_count": 3,
   "metadata": {},
   "outputs": [],
   "source": [
    "clean = False"
   ]
  },
  {
   "cell_type": "code",
   "execution_count": 4,
   "metadata": {},
   "outputs": [],
   "source": [
    "if clean:\n",
    "    files = os.listdir('raw_data/mortality')\n",
    "    for file in files:\n",
    "        with open('raw_data/mortality/' + file, 'r+') as f:\n",
    "            a = f.read()\n",
    "\n",
    "        split_ = a.split('\"---\"')\n",
    "        print(file, a.count('\"---\"'))\n",
    "        with open('data/mortality/' + file, 'w+') as f:\n",
    "            f.write(split_[0])"
   ]
  },
  {
   "cell_type": "markdown",
   "metadata": {},
   "source": [
    "Then, we can read from each txt/csv file and concatenate the DataFrames after reading them using the Pandas library."
   ]
  },
  {
   "cell_type": "code",
   "execution_count": 5,
   "metadata": {},
   "outputs": [],
   "source": [
    "combine_files = False"
   ]
  },
  {
   "cell_type": "code",
   "execution_count": 6,
   "metadata": {},
   "outputs": [],
   "source": [
    "if combine_files:\n",
    "    files = os.listdir('data/mortality')\n",
    "    # with open('data/mortality/master.txt', 'w+') as f:\n",
    "    with open('data/mortality/Alabama.txt', 'r') as g:\n",
    "    #         f.write(g.read())\n",
    "        df = pd.read_csv('data/mortality/Alabama.txt', sep='\\t', lineterminator='\\r', encoding = \"utf-8\")\n",
    "    for file in files[1:]:\n",
    "        if file == 'combined':\n",
    "            continue\n",
    "    #     with open('data/mortality/' + file, 'r') as h:\n",
    "    #             f.writelines(h.readlines()[1:])\n",
    "        print(file)\n",
    "        next_df = pd.read_csv('data/mortality/' + file, sep='\\t', lineterminator='\\r', encoding = 'ISO-8859-1')\n",
    "        df = pd.concat([df, next_df])\n",
    "    df.to_csv('data/mortality/combined/master.csv', mode='w', sep='\\t', encoding='utf-8')"
   ]
  },
  {
   "cell_type": "markdown",
   "metadata": {},
   "source": [
    "We can test if the combined csv works here."
   ]
  },
  {
   "cell_type": "code",
   "execution_count": 26,
   "metadata": {},
   "outputs": [],
   "source": [
    "df = pd.read_csv('data/mortality/combined/master.csv', sep='\\t', engine='python', encoding='utf-8')"
   ]
  },
  {
   "cell_type": "markdown",
   "metadata": {},
   "source": [
    "Let's describe df and see how many deaths are recorded in this dataset."
   ]
  },
  {
   "cell_type": "code",
   "execution_count": 8,
   "metadata": {},
   "outputs": [
    {
     "data": {
      "text/html": [
       "<div>\n",
       "<table border=\"1\" class=\"dataframe\">\n",
       "  <thead>\n",
       "    <tr style=\"text-align: right;\">\n",
       "      <th></th>\n",
       "      <th>Unnamed: 0</th>\n",
       "      <th>Deaths</th>\n",
       "      <th>Population</th>\n",
       "      <th>State Code</th>\n",
       "      <th>Year</th>\n",
       "      <th>Year Code</th>\n",
       "    </tr>\n",
       "  </thead>\n",
       "  <tbody>\n",
       "    <tr>\n",
       "      <th>count</th>\n",
       "      <td>299307.000000</td>\n",
       "      <td>299256.000000</td>\n",
       "      <td>2.992560e+05</td>\n",
       "      <td>299256.000000</td>\n",
       "      <td>299256.000000</td>\n",
       "      <td>299256.000000</td>\n",
       "    </tr>\n",
       "    <tr>\n",
       "      <th>mean</th>\n",
       "      <td>3876.925889</td>\n",
       "      <td>151.719468</td>\n",
       "      <td>9.465143e+06</td>\n",
       "      <td>28.637802</td>\n",
       "      <td>2008.179515</td>\n",
       "      <td>2008.179515</td>\n",
       "    </tr>\n",
       "    <tr>\n",
       "      <th>std</th>\n",
       "      <td>3065.841566</td>\n",
       "      <td>599.703516</td>\n",
       "      <td>8.814195e+06</td>\n",
       "      <td>15.519940</td>\n",
       "      <td>5.516246</td>\n",
       "      <td>5.516246</td>\n",
       "    </tr>\n",
       "    <tr>\n",
       "      <th>min</th>\n",
       "      <td>0.000000</td>\n",
       "      <td>10.000000</td>\n",
       "      <td>4.917800e+05</td>\n",
       "      <td>1.000000</td>\n",
       "      <td>1999.000000</td>\n",
       "      <td>1999.000000</td>\n",
       "    </tr>\n",
       "    <tr>\n",
       "      <th>25%</th>\n",
       "      <td>1467.000000</td>\n",
       "      <td>15.000000</td>\n",
       "      <td>3.670883e+06</td>\n",
       "      <td>16.000000</td>\n",
       "      <td>2003.000000</td>\n",
       "      <td>2003.000000</td>\n",
       "    </tr>\n",
       "    <tr>\n",
       "      <th>50%</th>\n",
       "      <td>3185.000000</td>\n",
       "      <td>29.000000</td>\n",
       "      <td>6.332669e+06</td>\n",
       "      <td>28.000000</td>\n",
       "      <td>2008.000000</td>\n",
       "      <td>2008.000000</td>\n",
       "    </tr>\n",
       "    <tr>\n",
       "      <th>75%</th>\n",
       "      <td>5527.000000</td>\n",
       "      <td>86.000000</td>\n",
       "      <td>1.226380e+07</td>\n",
       "      <td>42.000000</td>\n",
       "      <td>2013.000000</td>\n",
       "      <td>2013.000000</td>\n",
       "    </tr>\n",
       "    <tr>\n",
       "      <th>max</th>\n",
       "      <td>15890.000000</td>\n",
       "      <td>27659.000000</td>\n",
       "      <td>3.953665e+07</td>\n",
       "      <td>56.000000</td>\n",
       "      <td>2017.000000</td>\n",
       "      <td>2017.000000</td>\n",
       "    </tr>\n",
       "  </tbody>\n",
       "</table>\n",
       "</div>"
      ],
      "text/plain": [
       "          Unnamed: 0         Deaths    Population     State Code  \\\n",
       "count  299307.000000  299256.000000  2.992560e+05  299256.000000   \n",
       "mean     3876.925889     151.719468  9.465143e+06      28.637802   \n",
       "std      3065.841566     599.703516  8.814195e+06      15.519940   \n",
       "min         0.000000      10.000000  4.917800e+05       1.000000   \n",
       "25%      1467.000000      15.000000  3.670883e+06      16.000000   \n",
       "50%      3185.000000      29.000000  6.332669e+06      28.000000   \n",
       "75%      5527.000000      86.000000  1.226380e+07      42.000000   \n",
       "max     15890.000000   27659.000000  3.953665e+07      56.000000   \n",
       "\n",
       "                Year      Year Code  \n",
       "count  299256.000000  299256.000000  \n",
       "mean     2008.179515    2008.179515  \n",
       "std         5.516246       5.516246  \n",
       "min      1999.000000    1999.000000  \n",
       "25%      2003.000000    2003.000000  \n",
       "50%      2008.000000    2008.000000  \n",
       "75%      2013.000000    2013.000000  \n",
       "max      2017.000000    2017.000000  "
      ]
     },
     "execution_count": 8,
     "metadata": {},
     "output_type": "execute_result"
    }
   ],
   "source": [
    "df.describe()"
   ]
  },
  {
   "cell_type": "code",
   "execution_count": 27,
   "metadata": {},
   "outputs": [],
   "source": [
    "df = df.dropna()\n",
    "df['Deaths'] = df['Deaths'].astype(int)\n",
    "df = df.sort_values(by='Deaths', ascending=False)"
   ]
  },
  {
   "cell_type": "code",
   "execution_count": 29,
   "metadata": {},
   "outputs": [
    {
     "data": {
      "text/plain": [
       "California              15890\n",
       "Texas                   13621\n",
       "Florida                 12910\n",
       "New York                11790\n",
       "Pennsylvania            10839\n",
       "Ohio                    10408\n",
       "Illinois                10190\n",
       "Michigan                 9218\n",
       "North Carolina           8901\n",
       "Georgia                  8422\n",
       "New Jersey               7839\n",
       "Virginia                 7575\n",
       "Tennessee                7560\n",
       "Indiana                  7251\n",
       "Washington               7232\n",
       "Missouri                 7009\n",
       "Massachusetts            6706\n",
       "Wisconsin                6635\n",
       "Arizona                  6473\n",
       "Maryland                 6303\n",
       "South Carolina           6262\n",
       "Alabama                  6222\n",
       "Minnesota                6186\n",
       "Kentucky                 5787\n",
       "Louisiana                5734\n",
       "Colorado                 5541\n",
       "Oregon                   5531\n",
       "Oklahoma                 5103\n",
       "Iowa                     4815\n",
       "Mississippi              4769\n",
       "Connecticut              4746\n",
       "Arkansas                 4631\n",
       "Kansas                   4443\n",
       "West Virginia            3904\n",
       "Nevada                   3657\n",
       "New Mexico               3644\n",
       "Utah                     3466\n",
       "Nebraska                 3443\n",
       "Maine                    2997\n",
       "Idaho                    2922\n",
       "Montana                  2597\n",
       "New Hampshire            2589\n",
       "Hawaii                   2556\n",
       "Rhode Island             2367\n",
       "Delaware                 2210\n",
       "South Dakota             2086\n",
       "North Dakota             1820\n",
       "District of Columbia     1707\n",
       "Vermont                  1680\n",
       "Wyoming                  1600\n",
       "Alaska                   1469\n",
       "Name: State, dtype: int64"
      ]
     },
     "execution_count": 29,
     "metadata": {},
     "output_type": "execute_result"
    }
   ],
   "source": [
    "df['State'].value_counts()"
   ]
  },
  {
   "cell_type": "code",
   "execution_count": 11,
   "metadata": {},
   "outputs": [],
   "source": [
    "# TODO: Get the max underlying cause of death for each state"
   ]
  },
  {
   "cell_type": "code",
   "execution_count": 12,
   "metadata": {},
   "outputs": [
    {
     "name": "stdout",
     "output_type": "stream",
     "text": [
      "<class 'pandas.core.frame.DataFrame'>\n",
      "Int64Index: 299256 entries, 191904 to 149575\n",
      "Data columns (total 11 columns):\n",
      "Unnamed: 0                        299256 non-null int64\n",
      "Crude Rate                        299256 non-null object\n",
      "Deaths                            299256 non-null int64\n",
      "Notes                             299256 non-null object\n",
      "Population                        299256 non-null float64\n",
      "State                             299256 non-null object\n",
      "State Code                        299256 non-null float64\n",
      "Underlying Cause of death         299256 non-null object\n",
      "Underlying Cause of death Code    299256 non-null object\n",
      "Year                              299256 non-null float64\n",
      "Year Code                         299256 non-null float64\n",
      "dtypes: float64(4), int64(2), object(5)\n",
      "memory usage: 27.4+ MB\n"
     ]
    }
   ],
   "source": [
    "df.info()"
   ]
  },
  {
   "cell_type": "code",
   "execution_count": 30,
   "metadata": {},
   "outputs": [],
   "source": [
    "df['Underlying Cause of death'] = df['Underlying Cause of death'].astype(object).apply(lambda x: x.strip())"
   ]
  },
  {
   "cell_type": "code",
   "execution_count": 31,
   "metadata": {},
   "outputs": [],
   "source": [
    "year_state_causes_df = df.groupby(['Year', 'State'])['Underlying Cause of death', 'Deaths'].max().reset_index()\n",
    "years = year_state_causes_df['Year'].unique()"
   ]
  },
  {
   "cell_type": "code",
   "execution_count": 68,
   "metadata": {},
   "outputs": [
    {
     "name": "stdout",
     "output_type": "stream",
     "text": [
      "2006.0\n",
      "2007.0\n"
     ]
    },
    {
     "name": "stderr",
     "output_type": "stream",
     "text": [
      "/Library/Frameworks/Python.framework/Versions/3.6/lib/python3.6/site-packages/ipykernel_launcher.py:15: UserWarning: Boolean Series key will be reindexed to match DataFrame index.\n",
      "  from ipykernel import kernelapp as app\n"
     ]
    },
    {
     "name": "stdout",
     "output_type": "stream",
     "text": [
      "2008.0\n",
      "2009.0\n"
     ]
    },
    {
     "data": {
      "image/png": "[encoded data removed]",
      "text/plain": [
       "<Figure size 1440x720 with 1 Axes>"
      ]
     },
     "metadata": {},
     "output_type": "display_data"
    }
   ],
   "source": [
    "first_recession_years = [2000.0, 2001.0, 2002.0]\n",
    "second_recession_years = [2006.0, 2007.0, 2008.0, 2009.0]\n",
    "plt.figure(figsize=(20,10))\n",
    "plt.title('Top causes of death between 2006-2009')\n",
    "plt.xticks(rotation=90)\n",
    "plt.yscale('log')\n",
    "for year in second_recession_years:\n",
    "    print(year)\n",
    "    states = year_state_causes_df.loc[year_state_causes_df['Year']==year]['State']\n",
    "#     labels=[]\n",
    "    x = []\n",
    "    y = []\n",
    "    for state in states:\n",
    "#         print(state)\n",
    "        result = year_state_causes_df.loc[year_state_causes_df['Year']==year][year_state_causes_df['State']==state]\n",
    "#         print(result['Underlying Cause of death'].values[0], result['Deaths'].values[0])\n",
    "        x.append(result['Underlying Cause of death'].values[0])\n",
    "        y.append(result['Deaths'].values[0])\n",
    "#         labels.append(state)\n",
    "    plt.plot(x, y, marker='o', c=np.random.rand(3,), linestyle='none', label=str(int(year)))\n",
    "    \n",
    "#     plt.plot(x, y, marker='o', linestyle='none') #, labels=labels)\n",
    "plt.legend()\n",
    "plt.show()"
   ]
  },
  {
   "cell_type": "markdown",
   "metadata": {},
   "source": [
    "We should convert the year column to an integer value as a float type doesn't make sense."
   ]
  },
  {
   "cell_type": "code",
   "execution_count": null,
   "metadata": {},
   "outputs": [],
   "source": [
    "df['Year'] = df['Year'].astype(int)"
   ]
  },
  {
   "cell_type": "code",
   "execution_count": null,
   "metadata": {},
   "outputs": [],
   "source": [
    "df['Deaths'].groupby(df['Year']).sum().sort_values(ascending=False)"
   ]
  },
  {
   "cell_type": "code",
   "execution_count": null,
   "metadata": {},
   "outputs": [],
   "source": []
  },
  {
   "cell_type": "code",
   "execution_count": null,
   "metadata": {},
   "outputs": [],
   "source": [
    "# Plot the number of deaths from above (different line for each cause, x axis year, y axis deaths)\n",
    "# Vertical lines sections highlighted around the recessions in the background\n"
   ]
  }
 ],
 "metadata": {
  "kernelspec": {
   "display_name": "Python 3",
   "language": "python",
   "name": "python3"
  },
  "language_info": {
   "codemirror_mode": {
    "name": "ipython",
    "version": 3
   },
   "file_extension": ".py",
   "mimetype": "text/x-python",
   "name": "python",
   "nbconvert_exporter": "python",
   "pygments_lexer": "ipython3",
   "version": "3.6.0"
  }
 },
 "nbformat": 4,
 "nbformat_minor": 2
}
