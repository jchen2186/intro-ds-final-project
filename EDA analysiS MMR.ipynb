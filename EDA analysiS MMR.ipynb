{
 "cells": [
  {
   "cell_type": "code",
   "execution_count": 1,
   "metadata": {},
   "outputs": [],
   "source": [
    "%matplotlib inline\n",
    "\n",
    "import pandas as pd\n",
    "import matplotlib.pyplot as plt"
   ]
  },
  {
   "cell_type": "code",
   "execution_count": 2,
   "metadata": {},
   "outputs": [],
   "source": [
    "df = pd.read_csv('https://raw.githubusercontent.com/jchen2186/mortal-determination/master/raw_data/NNDSS_-_Table_I._infrequently_reported_notifiable_diseases_2018.csv')"
   ]
  },
  {
   "cell_type": "code",
   "execution_count": 3,
   "metadata": {},
   "outputs": [
    {
     "data": {
      "text/html": [
       "<div>\n",
       "<style scoped>\n",
       "    .dataframe tbody tr th:only-of-type {\n",
       "        vertical-align: middle;\n",
       "    }\n",
       "\n",
       "    .dataframe tbody tr th {\n",
       "        vertical-align: top;\n",
       "    }\n",
       "\n",
       "    .dataframe thead th {\n",
       "        text-align: right;\n",
       "    }\n",
       "</style>\n",
       "<table border=\"1\" class=\"dataframe\">\n",
       "  <thead>\n",
       "    <tr style=\"text-align: right;\">\n",
       "      <th></th>\n",
       "      <th>Disease</th>\n",
       "      <th>MMWR year</th>\n",
       "      <th>MMWR week</th>\n",
       "      <th>Current week</th>\n",
       "      <th>Current week, flag</th>\n",
       "      <th>Cum 2018</th>\n",
       "      <th>Cum 2018, flag</th>\n",
       "      <th>5-year weekly average§</th>\n",
       "      <th>5-year weekly average§, flag</th>\n",
       "      <th>Total cases reported for pervious years  2017</th>\n",
       "      <th>Total cases reported for pervious years 2017, flag</th>\n",
       "      <th>Total cases reported for pervious years 2016</th>\n",
       "      <th>Total cases reported for pervious years 2016, flag</th>\n",
       "      <th>Total cases reported for pervious years 2015</th>\n",
       "      <th>Total cases reported for pervious years 2015, flag</th>\n",
       "      <th>Total cases reported for pervious years 2014</th>\n",
       "      <th>Total cases reported for pervious years 2014, flag</th>\n",
       "      <th>Total cases reported for pervious years 2013</th>\n",
       "      <th>Total cases reported for pervious years 2013, flag</th>\n",
       "      <th>States reporting cases during current week (No.)</th>\n",
       "    </tr>\n",
       "  </thead>\n",
       "  <tbody>\n",
       "    <tr>\n",
       "      <th>0</th>\n",
       "      <td>Anthrax</td>\n",
       "      <td>2018.0</td>\n",
       "      <td>1.0</td>\n",
       "      <td>NaN</td>\n",
       "      <td>-</td>\n",
       "      <td>NaN</td>\n",
       "      <td>-</td>\n",
       "      <td>NaN</td>\n",
       "      <td>-</td>\n",
       "      <td>NaN</td>\n",
       "      <td>-</td>\n",
       "      <td>NaN</td>\n",
       "      <td>-</td>\n",
       "      <td>NaN</td>\n",
       "      <td>-</td>\n",
       "      <td>NaN</td>\n",
       "      <td>-</td>\n",
       "      <td>NaN</td>\n",
       "      <td>-</td>\n",
       "      <td>NaN</td>\n",
       "    </tr>\n",
       "    <tr>\n",
       "      <th>1</th>\n",
       "      <td>Arboviral diseases, neuroinvasive and  nonneur...</td>\n",
       "      <td>2018.0</td>\n",
       "      <td>1.0</td>\n",
       "      <td>NaN</td>\n",
       "      <td>-</td>\n",
       "      <td>NaN</td>\n",
       "      <td>-</td>\n",
       "      <td>6.0</td>\n",
       "      <td>NaN</td>\n",
       "      <td>115.0</td>\n",
       "      <td>NaN</td>\n",
       "      <td>247.0</td>\n",
       "      <td>NaN</td>\n",
       "      <td>896.0</td>\n",
       "      <td>NaN</td>\n",
       "      <td>NaN</td>\n",
       "      <td>NN</td>\n",
       "      <td>NaN</td>\n",
       "      <td>NN</td>\n",
       "      <td>NaN</td>\n",
       "    </tr>\n",
       "    <tr>\n",
       "      <th>2</th>\n",
       "      <td>Arboviral diseases, neuroinvasive and  nonneur...</td>\n",
       "      <td>2018.0</td>\n",
       "      <td>1.0</td>\n",
       "      <td>NaN</td>\n",
       "      <td>-</td>\n",
       "      <td>NaN</td>\n",
       "      <td>-</td>\n",
       "      <td>0.0</td>\n",
       "      <td>NaN</td>\n",
       "      <td>3.0</td>\n",
       "      <td>NaN</td>\n",
       "      <td>7.0</td>\n",
       "      <td>NaN</td>\n",
       "      <td>6.0</td>\n",
       "      <td>NaN</td>\n",
       "      <td>8.0</td>\n",
       "      <td>NaN</td>\n",
       "      <td>8.0</td>\n",
       "      <td>NaN</td>\n",
       "      <td>NaN</td>\n",
       "    </tr>\n",
       "    <tr>\n",
       "      <th>3</th>\n",
       "      <td>Arboviral diseases, neuroinvasive and  nonneur...</td>\n",
       "      <td>2018.0</td>\n",
       "      <td>1.0</td>\n",
       "      <td>NaN</td>\n",
       "      <td>-</td>\n",
       "      <td>NaN</td>\n",
       "      <td>-</td>\n",
       "      <td>0.0</td>\n",
       "      <td>NaN</td>\n",
       "      <td>67.0</td>\n",
       "      <td>NaN</td>\n",
       "      <td>15.0</td>\n",
       "      <td>NaN</td>\n",
       "      <td>11.0</td>\n",
       "      <td>NaN</td>\n",
       "      <td>11.0</td>\n",
       "      <td>NaN</td>\n",
       "      <td>22.0</td>\n",
       "      <td>NaN</td>\n",
       "      <td>NaN</td>\n",
       "    </tr>\n",
       "    <tr>\n",
       "      <th>4</th>\n",
       "      <td>Arboviral diseases, neuroinvasive and  nonneur...</td>\n",
       "      <td>2018.0</td>\n",
       "      <td>1.0</td>\n",
       "      <td>NaN</td>\n",
       "      <td>-</td>\n",
       "      <td>NaN</td>\n",
       "      <td>-</td>\n",
       "      <td>NaN</td>\n",
       "      <td>-</td>\n",
       "      <td>44.0</td>\n",
       "      <td>NaN</td>\n",
       "      <td>35.0</td>\n",
       "      <td>NaN</td>\n",
       "      <td>55.0</td>\n",
       "      <td>NaN</td>\n",
       "      <td>80.0</td>\n",
       "      <td>NaN</td>\n",
       "      <td>85.0</td>\n",
       "      <td>NaN</td>\n",
       "      <td>NaN</td>\n",
       "    </tr>\n",
       "  </tbody>\n",
       "</table>\n",
       "</div>"
      ],
      "text/plain": [
       "                                             Disease  MMWR year  MMWR week  \\\n",
       "0                                            Anthrax     2018.0        1.0   \n",
       "1  Arboviral diseases, neuroinvasive and  nonneur...     2018.0        1.0   \n",
       "2  Arboviral diseases, neuroinvasive and  nonneur...     2018.0        1.0   \n",
       "3  Arboviral diseases, neuroinvasive and  nonneur...     2018.0        1.0   \n",
       "4  Arboviral diseases, neuroinvasive and  nonneur...     2018.0        1.0   \n",
       "\n",
       "   Current week Current week, flag  Cum 2018 Cum 2018, flag  \\\n",
       "0           NaN                  -       NaN              -   \n",
       "1           NaN                  -       NaN              -   \n",
       "2           NaN                  -       NaN              -   \n",
       "3           NaN                  -       NaN              -   \n",
       "4           NaN                  -       NaN              -   \n",
       "\n",
       "   5-year weekly average§ 5-year weekly average§, flag  \\\n",
       "0                     NaN                            -   \n",
       "1                     6.0                          NaN   \n",
       "2                     0.0                          NaN   \n",
       "3                     0.0                          NaN   \n",
       "4                     NaN                            -   \n",
       "\n",
       "   Total cases reported for pervious years  2017  \\\n",
       "0                                            NaN   \n",
       "1                                          115.0   \n",
       "2                                            3.0   \n",
       "3                                           67.0   \n",
       "4                                           44.0   \n",
       "\n",
       "  Total cases reported for pervious years 2017, flag  \\\n",
       "0                                                  -   \n",
       "1                                                NaN   \n",
       "2                                                NaN   \n",
       "3                                                NaN   \n",
       "4                                                NaN   \n",
       "\n",
       "   Total cases reported for pervious years 2016  \\\n",
       "0                                           NaN   \n",
       "1                                         247.0   \n",
       "2                                           7.0   \n",
       "3                                          15.0   \n",
       "4                                          35.0   \n",
       "\n",
       "  Total cases reported for pervious years 2016, flag  \\\n",
       "0                                                  -   \n",
       "1                                                NaN   \n",
       "2                                                NaN   \n",
       "3                                                NaN   \n",
       "4                                                NaN   \n",
       "\n",
       "   Total cases reported for pervious years 2015  \\\n",
       "0                                           NaN   \n",
       "1                                         896.0   \n",
       "2                                           6.0   \n",
       "3                                          11.0   \n",
       "4                                          55.0   \n",
       "\n",
       "  Total cases reported for pervious years 2015, flag  \\\n",
       "0                                                  -   \n",
       "1                                                NaN   \n",
       "2                                                NaN   \n",
       "3                                                NaN   \n",
       "4                                                NaN   \n",
       "\n",
       "   Total cases reported for pervious years 2014  \\\n",
       "0                                           NaN   \n",
       "1                                           NaN   \n",
       "2                                           8.0   \n",
       "3                                          11.0   \n",
       "4                                          80.0   \n",
       "\n",
       "  Total cases reported for pervious years 2014, flag  \\\n",
       "0                                                  -   \n",
       "1                                                 NN   \n",
       "2                                                NaN   \n",
       "3                                                NaN   \n",
       "4                                                NaN   \n",
       "\n",
       "   Total cases reported for pervious years 2013  \\\n",
       "0                                           NaN   \n",
       "1                                           NaN   \n",
       "2                                           8.0   \n",
       "3                                          22.0   \n",
       "4                                          85.0   \n",
       "\n",
       "  Total cases reported for pervious years 2013, flag  \\\n",
       "0                                                  -   \n",
       "1                                                 NN   \n",
       "2                                                NaN   \n",
       "3                                                NaN   \n",
       "4                                                NaN   \n",
       "\n",
       "  States reporting cases during current week (No.)   \n",
       "0                                               NaN  \n",
       "1                                               NaN  \n",
       "2                                               NaN  \n",
       "3                                               NaN  \n",
       "4                                               NaN  "
      ]
     },
     "execution_count": 3,
     "metadata": {},
     "output_type": "execute_result"
    }
   ],
   "source": [
    "df.head()"
   ]
  },
  {
   "cell_type": "code",
   "execution_count": 4,
   "metadata": {},
   "outputs": [
    {
     "data": {
      "text/html": [
       "<div>\n",
       "<style scoped>\n",
       "    .dataframe tbody tr th:only-of-type {\n",
       "        vertical-align: middle;\n",
       "    }\n",
       "\n",
       "    .dataframe tbody tr th {\n",
       "        vertical-align: top;\n",
       "    }\n",
       "\n",
       "    .dataframe thead th {\n",
       "        text-align: right;\n",
       "    }\n",
       "</style>\n",
       "<table border=\"1\" class=\"dataframe\">\n",
       "  <thead>\n",
       "    <tr style=\"text-align: right;\">\n",
       "      <th></th>\n",
       "      <th>MMWR year</th>\n",
       "      <th>MMWR week</th>\n",
       "      <th>Current week</th>\n",
       "      <th>Cum 2018</th>\n",
       "      <th>5-year weekly average§</th>\n",
       "      <th>Total cases reported for pervious years  2017</th>\n",
       "      <th>Total cases reported for pervious years 2016</th>\n",
       "      <th>Total cases reported for pervious years 2015</th>\n",
       "      <th>Total cases reported for pervious years 2014</th>\n",
       "      <th>Total cases reported for pervious years 2013</th>\n",
       "    </tr>\n",
       "  </thead>\n",
       "  <tbody>\n",
       "    <tr>\n",
       "      <th>count</th>\n",
       "      <td>3072.0</td>\n",
       "      <td>3072.000000</td>\n",
       "      <td>618.000000</td>\n",
       "      <td>1836.000000</td>\n",
       "      <td>2092.000000</td>\n",
       "      <td>2115.000000</td>\n",
       "      <td>2112.000000</td>\n",
       "      <td>2256.000000</td>\n",
       "      <td>2160.000000</td>\n",
       "      <td>2015.000000</td>\n",
       "    </tr>\n",
       "    <tr>\n",
       "      <th>mean</th>\n",
       "      <td>2018.0</td>\n",
       "      <td>24.166667</td>\n",
       "      <td>3.058252</td>\n",
       "      <td>83.310458</td>\n",
       "      <td>2.769598</td>\n",
       "      <td>156.561702</td>\n",
       "      <td>134.567235</td>\n",
       "      <td>142.936170</td>\n",
       "      <td>127.933333</td>\n",
       "      <td>136.080893</td>\n",
       "    </tr>\n",
       "    <tr>\n",
       "      <th>std</th>\n",
       "      <td>0.0</td>\n",
       "      <td>13.473356</td>\n",
       "      <td>5.292407</td>\n",
       "      <td>274.101975</td>\n",
       "      <td>4.957637</td>\n",
       "      <td>238.317463</td>\n",
       "      <td>168.626649</td>\n",
       "      <td>198.543315</td>\n",
       "      <td>168.833030</td>\n",
       "      <td>172.854201</td>\n",
       "    </tr>\n",
       "    <tr>\n",
       "      <th>min</th>\n",
       "      <td>2018.0</td>\n",
       "      <td>1.000000</td>\n",
       "      <td>1.000000</td>\n",
       "      <td>1.000000</td>\n",
       "      <td>0.000000</td>\n",
       "      <td>1.000000</td>\n",
       "      <td>4.000000</td>\n",
       "      <td>1.000000</td>\n",
       "      <td>1.000000</td>\n",
       "      <td>1.000000</td>\n",
       "    </tr>\n",
       "    <tr>\n",
       "      <th>25%</th>\n",
       "      <td>2018.0</td>\n",
       "      <td>12.750000</td>\n",
       "      <td>1.000000</td>\n",
       "      <td>5.000000</td>\n",
       "      <td>0.000000</td>\n",
       "      <td>21.000000</td>\n",
       "      <td>25.250000</td>\n",
       "      <td>14.000000</td>\n",
       "      <td>11.000000</td>\n",
       "      <td>17.000000</td>\n",
       "    </tr>\n",
       "    <tr>\n",
       "      <th>50%</th>\n",
       "      <td>2018.0</td>\n",
       "      <td>24.500000</td>\n",
       "      <td>1.500000</td>\n",
       "      <td>20.000000</td>\n",
       "      <td>1.000000</td>\n",
       "      <td>81.000000</td>\n",
       "      <td>80.000000</td>\n",
       "      <td>64.000000</td>\n",
       "      <td>59.000000</td>\n",
       "      <td>85.000000</td>\n",
       "    </tr>\n",
       "    <tr>\n",
       "      <th>75%</th>\n",
       "      <td>2018.0</td>\n",
       "      <td>35.250000</td>\n",
       "      <td>3.000000</td>\n",
       "      <td>82.000000</td>\n",
       "      <td>3.000000</td>\n",
       "      <td>162.000000</td>\n",
       "      <td>169.750000</td>\n",
       "      <td>175.000000</td>\n",
       "      <td>168.000000</td>\n",
       "      <td>187.000000</td>\n",
       "    </tr>\n",
       "    <tr>\n",
       "      <th>max</th>\n",
       "      <td>2018.0</td>\n",
       "      <td>47.000000</td>\n",
       "      <td>58.000000</td>\n",
       "      <td>2942.000000</td>\n",
       "      <td>63.000000</td>\n",
       "      <td>1245.000000</td>\n",
       "      <td>786.000000</td>\n",
       "      <td>896.000000</td>\n",
       "      <td>769.000000</td>\n",
       "      <td>784.000000</td>\n",
       "    </tr>\n",
       "  </tbody>\n",
       "</table>\n",
       "</div>"
      ],
      "text/plain": [
       "       MMWR year    MMWR week  Current week     Cum 2018  \\\n",
       "count     3072.0  3072.000000    618.000000  1836.000000   \n",
       "mean      2018.0    24.166667      3.058252    83.310458   \n",
       "std          0.0    13.473356      5.292407   274.101975   \n",
       "min       2018.0     1.000000      1.000000     1.000000   \n",
       "25%       2018.0    12.750000      1.000000     5.000000   \n",
       "50%       2018.0    24.500000      1.500000    20.000000   \n",
       "75%       2018.0    35.250000      3.000000    82.000000   \n",
       "max       2018.0    47.000000     58.000000  2942.000000   \n",
       "\n",
       "       5-year weekly average§  Total cases reported for pervious years  2017  \\\n",
       "count             2092.000000                                    2115.000000   \n",
       "mean                 2.769598                                     156.561702   \n",
       "std                  4.957637                                     238.317463   \n",
       "min                  0.000000                                       1.000000   \n",
       "25%                  0.000000                                      21.000000   \n",
       "50%                  1.000000                                      81.000000   \n",
       "75%                  3.000000                                     162.000000   \n",
       "max                 63.000000                                    1245.000000   \n",
       "\n",
       "       Total cases reported for pervious years 2016  \\\n",
       "count                                   2112.000000   \n",
       "mean                                     134.567235   \n",
       "std                                      168.626649   \n",
       "min                                        4.000000   \n",
       "25%                                       25.250000   \n",
       "50%                                       80.000000   \n",
       "75%                                      169.750000   \n",
       "max                                      786.000000   \n",
       "\n",
       "       Total cases reported for pervious years 2015  \\\n",
       "count                                   2256.000000   \n",
       "mean                                     142.936170   \n",
       "std                                      198.543315   \n",
       "min                                        1.000000   \n",
       "25%                                       14.000000   \n",
       "50%                                       64.000000   \n",
       "75%                                      175.000000   \n",
       "max                                      896.000000   \n",
       "\n",
       "       Total cases reported for pervious years 2014  \\\n",
       "count                                   2160.000000   \n",
       "mean                                     127.933333   \n",
       "std                                      168.833030   \n",
       "min                                        1.000000   \n",
       "25%                                       11.000000   \n",
       "50%                                       59.000000   \n",
       "75%                                      168.000000   \n",
       "max                                      769.000000   \n",
       "\n",
       "       Total cases reported for pervious years 2013  \n",
       "count                                   2015.000000  \n",
       "mean                                     136.080893  \n",
       "std                                      172.854201  \n",
       "min                                        1.000000  \n",
       "25%                                       17.000000  \n",
       "50%                                       85.000000  \n",
       "75%                                      187.000000  \n",
       "max                                      784.000000  "
      ]
     },
     "execution_count": 4,
     "metadata": {},
     "output_type": "execute_result"
    }
   ],
   "source": [
    "df.describe()"
   ]
  },
  {
   "cell_type": "code",
   "execution_count": 5,
   "metadata": {},
   "outputs": [
    {
     "data": {
      "text/plain": [
       "<matplotlib.axes._subplots.AxesSubplot at 0x7fca9e183978>"
      ]
     },
     "execution_count": 5,
     "metadata": {},
     "output_type": "execute_result"
    },
    {
     "data": {
      "image/png": "[encoded data removed]",
      "text/plain": [
       "<Figure size 432x288 with 1 Axes>"
      ]
     },
     "metadata": {
      "needs_background": "light"
     },
     "output_type": "display_data"
    }
   ],
   "source": [
    "df.mean().plot.bar()\n"
   ]
  },
  {
   "cell_type": "code",
   "execution_count": 6,
   "metadata": {},
   "outputs": [
    {
     "data": {
      "text/plain": [
       "<matplotlib.axes._subplots.AxesSubplot at 0x7fca9e0e2b38>"
      ]
     },
     "execution_count": 6,
     "metadata": {},
     "output_type": "execute_result"
    },
    {
     "data": {
      "image/png": "[encoded data removed]",
      "text/plain": [
       "<Figure size 432x288 with 1 Axes>"
      ]
     },
     "metadata": {
      "needs_background": "light"
     },
     "output_type": "display_data"
    }
   ],
   "source": [
    "df.std().plot.bar()"
   ]
  },
  {
   "cell_type": "code",
   "execution_count": 7,
   "metadata": {},
   "outputs": [
    {
     "data": {
      "text/html": [
       "<div>\n",
       "<style scoped>\n",
       "    .dataframe tbody tr th:only-of-type {\n",
       "        vertical-align: middle;\n",
       "    }\n",
       "\n",
       "    .dataframe tbody tr th {\n",
       "        vertical-align: top;\n",
       "    }\n",
       "\n",
       "    .dataframe thead th {\n",
       "        text-align: right;\n",
       "    }\n",
       "</style>\n",
       "<table border=\"1\" class=\"dataframe\">\n",
       "  <thead>\n",
       "    <tr style=\"text-align: right;\">\n",
       "      <th></th>\n",
       "      <th>MMWR week</th>\n",
       "      <th>Total cases reported for pervious years  2017</th>\n",
       "    </tr>\n",
       "  </thead>\n",
       "  <tbody>\n",
       "    <tr>\n",
       "      <th>MMWR week</th>\n",
       "      <td>1.000000</td>\n",
       "      <td>0.038915</td>\n",
       "    </tr>\n",
       "    <tr>\n",
       "      <th>Total cases reported for pervious years  2017</th>\n",
       "      <td>0.038915</td>\n",
       "      <td>1.000000</td>\n",
       "    </tr>\n",
       "  </tbody>\n",
       "</table>\n",
       "</div>"
      ],
      "text/plain": [
       "                                               MMWR week  \\\n",
       "MMWR week                                       1.000000   \n",
       "Total cases reported for pervious years  2017   0.038915   \n",
       "\n",
       "                                               Total cases reported for pervious years  2017  \n",
       "MMWR week                                                                           0.038915  \n",
       "Total cases reported for pervious years  2017                                       1.000000  "
      ]
     },
     "execution_count": 7,
     "metadata": {},
     "output_type": "execute_result"
    }
   ],
   "source": [
    "df[['MMWR week', 'Total cases reported for pervious years  2017']].corr()"
   ]
  },
  {
   "cell_type": "code",
   "execution_count": 8,
   "metadata": {},
   "outputs": [
    {
     "data": {
      "text/plain": [
       "<matplotlib.axes._subplots.AxesSubplot at 0x7fca9bffae80>"
      ]
     },
     "execution_count": 8,
     "metadata": {},
     "output_type": "execute_result"
    },
    {
     "data": {
      "image/png": "[encoded data removed]",
      "text/plain": [
       "<Figure size 432x288 with 1 Axes>"
      ]
     },
     "metadata": {
      "needs_background": "light"
     },
     "output_type": "display_data"
    }
   ],
   "source": [
    "df.plot.scatter('MMWR week', 'MMWR year')"
   ]
  },
  {
   "cell_type": "code",
   "execution_count": 9,
   "metadata": {},
   "outputs": [
    {
     "data": {
      "text/plain": [
       "<matplotlib.axes._subplots.AxesSubplot at 0x7fca9c088be0>"
      ]
     },
     "execution_count": 9,
     "metadata": {},
     "output_type": "execute_result"
    },
    {
     "data": {
      "image/png": "[encoded data removed]",
      "text/plain": [
       "<Figure size 432x288 with 1 Axes>"
      ]
     },
     "metadata": {
      "needs_background": "light"
     },
     "output_type": "display_data"
    }
   ],
   "source": [
    "df.boxplot()"
   ]
  },
  {
   "cell_type": "code",
   "execution_count": 10,
   "metadata": {},
   "outputs": [
    {
     "data": {
      "text/html": [
       "<div>\n",
       "<style scoped>\n",
       "    .dataframe tbody tr th:only-of-type {\n",
       "        vertical-align: middle;\n",
       "    }\n",
       "\n",
       "    .dataframe tbody tr th {\n",
       "        vertical-align: top;\n",
       "    }\n",
       "\n",
       "    .dataframe thead th {\n",
       "        text-align: right;\n",
       "    }\n",
       "</style>\n",
       "<table border=\"1\" class=\"dataframe\">\n",
       "  <thead>\n",
       "    <tr style=\"text-align: right;\">\n",
       "      <th></th>\n",
       "      <th>MMWR week</th>\n",
       "    </tr>\n",
       "  </thead>\n",
       "  <tbody>\n",
       "    <tr>\n",
       "      <th>MMWR week</th>\n",
       "      <td>1.0</td>\n",
       "    </tr>\n",
       "  </tbody>\n",
       "</table>\n",
       "</div>"
      ],
      "text/plain": [
       "           MMWR week\n",
       "MMWR week        1.0"
      ]
     },
     "execution_count": 10,
     "metadata": {},
     "output_type": "execute_result"
    }
   ],
   "source": [
    "df[['Disease','MMWR week']].corr()"
   ]
  },
  {
   "cell_type": "code",
   "execution_count": null,
   "metadata": {},
   "outputs": [],
   "source": []
  }
 ],
 "metadata": {
  "kernelspec": {
   "display_name": "Python 3",
   "language": "python",
   "name": "python3"
  },
  "language_info": {
   "codemirror_mode": {
    "name": "ipython",
    "version": 3
   },
   "file_extension": ".py",
   "mimetype": "text/x-python",
   "name": "python",
   "nbconvert_exporter": "python",
   "pygments_lexer": "ipython3",
   "version": "3.5.2"
  }
 },
 "nbformat": 4,
 "nbformat_minor": 2
}
