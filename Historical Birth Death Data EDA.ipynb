{
 "cells": [
  {
   "cell_type": "code",
   "execution_count": 1,
   "metadata": {
    "collapsed": true
   },
   "outputs": [],
   "source": [
    "import pandas as pd\n",
    "import matplotlib.pyplot as plt"
   ]
  },
  {
   "cell_type": "code",
   "execution_count": 2,
   "metadata": {
    "collapsed": true
   },
   "outputs": [],
   "source": [
    "%matplotlib inline"
   ]
  },
  {
   "cell_type": "code",
   "execution_count": 3,
   "metadata": {
    "collapsed": true
   },
   "outputs": [],
   "source": [
    "df = pd.read_csv('data/historic_birth_death.csv')"
   ]
  },
  {
   "cell_type": "code",
   "execution_count": null,
   "metadata": {
    "collapsed": true
   },
   "outputs": [],
   "source": []
  },
  {
   "cell_type": "code",
   "execution_count": 4,
   "metadata": {
    "collapsed": false
   },
   "outputs": [
    {
     "data": {
      "text/plain": [
       "Index(['Year', 'Births  (1,000)', 'Deaths (1,000)', 'Infant Deaths (1,000)',\n",
       "       'Marriages (1,000)', 'Divorces (1,000)', 'Births Rate Per 1000 ',\n",
       "       'Death Rate per 1000', 'Infant Death Rate Per 1000',\n",
       "       'Marriage per 1000', 'Divorce per 1000'],\n",
       "      dtype='object')"
      ]
     },
     "execution_count": 4,
     "metadata": {},
     "output_type": "execute_result"
    }
   ],
   "source": [
    "df.columns"
   ]
  },
  {
   "cell_type": "code",
   "execution_count": 5,
   "metadata": {
    "collapsed": false
   },
   "outputs": [
    {
     "data": {
      "text/html": [
       "<div>\n",
       "<table border=\"1\" class=\"dataframe\">\n",
       "  <thead>\n",
       "    <tr style=\"text-align: right;\">\n",
       "      <th></th>\n",
       "      <th>Year</th>\n",
       "      <th>Births  (1,000)</th>\n",
       "      <th>Deaths (1,000)</th>\n",
       "      <th>Infant Deaths (1,000)</th>\n",
       "      <th>Marriages (1,000)</th>\n",
       "      <th>Divorces (1,000)</th>\n",
       "      <th>Births Rate Per 1000</th>\n",
       "      <th>Death Rate per 1000</th>\n",
       "      <th>Infant Death Rate Per 1000</th>\n",
       "      <th>Marriage per 1000</th>\n",
       "      <th>Divorce per 1000</th>\n",
       "    </tr>\n",
       "  </thead>\n",
       "  <tbody>\n",
       "    <tr>\n",
       "      <th>0</th>\n",
       "      <td>1960</td>\n",
       "      <td>4,258</td>\n",
       "      <td>1,712</td>\n",
       "      <td>111.0</td>\n",
       "      <td>1,523</td>\n",
       "      <td>393</td>\n",
       "      <td>23.7</td>\n",
       "      <td>9.5</td>\n",
       "      <td>26.0</td>\n",
       "      <td>8.5</td>\n",
       "      <td>2.2</td>\n",
       "    </tr>\n",
       "    <tr>\n",
       "      <th>1</th>\n",
       "      <td>1965</td>\n",
       "      <td>3,760</td>\n",
       "      <td>1,828</td>\n",
       "      <td>93.0</td>\n",
       "      <td>1,800</td>\n",
       "      <td>479</td>\n",
       "      <td>19.4</td>\n",
       "      <td>9.4</td>\n",
       "      <td>24.7</td>\n",
       "      <td>9.3</td>\n",
       "      <td>2.5</td>\n",
       "    </tr>\n",
       "    <tr>\n",
       "      <th>2</th>\n",
       "      <td>1970</td>\n",
       "      <td>3,731</td>\n",
       "      <td>1,921</td>\n",
       "      <td>75.0</td>\n",
       "      <td>2,159</td>\n",
       "      <td>708</td>\n",
       "      <td>18.4</td>\n",
       "      <td>9.5</td>\n",
       "      <td>20.0</td>\n",
       "      <td>10.6</td>\n",
       "      <td>3.5</td>\n",
       "    </tr>\n",
       "    <tr>\n",
       "      <th>3</th>\n",
       "      <td>1971</td>\n",
       "      <td>3,556</td>\n",
       "      <td>1,928</td>\n",
       "      <td>68.0</td>\n",
       "      <td>2,190</td>\n",
       "      <td>773</td>\n",
       "      <td>17.2</td>\n",
       "      <td>9.3</td>\n",
       "      <td>19.1</td>\n",
       "      <td>10.6</td>\n",
       "      <td>3.7</td>\n",
       "    </tr>\n",
       "    <tr>\n",
       "      <th>4</th>\n",
       "      <td>1972</td>\n",
       "      <td>3,258</td>\n",
       "      <td>1,964</td>\n",
       "      <td>60.0</td>\n",
       "      <td>2,282</td>\n",
       "      <td>845</td>\n",
       "      <td>15.6</td>\n",
       "      <td>9.4</td>\n",
       "      <td>18.5</td>\n",
       "      <td>10.9</td>\n",
       "      <td>4.0</td>\n",
       "    </tr>\n",
       "  </tbody>\n",
       "</table>\n",
       "</div>"
      ],
      "text/plain": [
       "   Year Births  (1,000) Deaths (1,000)  Infant Deaths (1,000)  \\\n",
       "0  1960           4,258          1,712                  111.0   \n",
       "1  1965           3,760          1,828                   93.0   \n",
       "2  1970           3,731          1,921                   75.0   \n",
       "3  1971           3,556          1,928                   68.0   \n",
       "4  1972           3,258          1,964                   60.0   \n",
       "\n",
       "  Marriages (1,000) Divorces (1,000)  Births Rate Per 1000   \\\n",
       "0             1,523              393                   23.7   \n",
       "1             1,800              479                   19.4   \n",
       "2             2,159              708                   18.4   \n",
       "3             2,190              773                   17.2   \n",
       "4             2,282              845                   15.6   \n",
       "\n",
       "   Death Rate per 1000  Infant Death Rate Per 1000 Marriage per 1000  \\\n",
       "0                  9.5                        26.0               8.5   \n",
       "1                  9.4                        24.7               9.3   \n",
       "2                  9.5                        20.0              10.6   \n",
       "3                  9.3                        19.1              10.6   \n",
       "4                  9.4                        18.5              10.9   \n",
       "\n",
       "  Divorce per 1000  \n",
       "0              2.2  \n",
       "1              2.5  \n",
       "2              3.5  \n",
       "3              3.7  \n",
       "4              4.0  "
      ]
     },
     "execution_count": 5,
     "metadata": {},
     "output_type": "execute_result"
    }
   ],
   "source": [
    "df.head(5)"
   ]
  },
  {
   "cell_type": "code",
   "execution_count": 6,
   "metadata": {
    "collapsed": false
   },
   "outputs": [
    {
     "name": "stdout",
     "output_type": "stream",
     "text": [
      "<class 'pandas.core.frame.DataFrame'>\n",
      "RangeIndex: 42 entries, 0 to 41\n",
      "Data columns (total 11 columns):\n",
      "Year                          42 non-null object\n",
      "Births  (1,000)               41 non-null object\n",
      "Deaths (1,000)                41 non-null object\n",
      "Infant Deaths (1,000)         41 non-null float64\n",
      "Marriages (1,000)             41 non-null object\n",
      "Divorces (1,000)              41 non-null object\n",
      "Births Rate Per 1000          41 non-null float64\n",
      "Death Rate per 1000           41 non-null float64\n",
      "Infant Death Rate Per 1000    41 non-null float64\n",
      "Marriage per 1000             41 non-null object\n",
      "Divorce per 1000              41 non-null object\n",
      "dtypes: float64(4), object(7)\n",
      "memory usage: 3.7+ KB\n"
     ]
    }
   ],
   "source": [
    "df.info()"
   ]
  },
  {
   "cell_type": "code",
   "execution_count": 7,
   "metadata": {
    "collapsed": false,
    "scrolled": false
   },
   "outputs": [
    {
     "data": {
      "text/plain": [
       "0     4258.0\n",
       "1     3760.0\n",
       "2     3731.0\n",
       "3     3556.0\n",
       "4     3258.0\n",
       "5     3137.0\n",
       "6     3160.0\n",
       "7     3144.0\n",
       "8     3168.0\n",
       "9     3327.0\n",
       "10    3333.0\n",
       "11    3494.0\n",
       "12    3612.0\n",
       "13    3629.0\n",
       "14    3681.0\n",
       "15    3639.0\n",
       "16    3669.0\n",
       "17    3761.0\n",
       "18    3757.0\n",
       "19    3809.0\n",
       "20    3910.0\n",
       "21    4041.0\n",
       "22    4158.0\n",
       "23    4111.0\n",
       "24    4065.0\n",
       "25    4000.0\n",
       "26    3953.0\n",
       "27    3900.0\n",
       "28    3891.0\n",
       "29    3881.0\n",
       "30    3942.0\n",
       "31    3959.0\n",
       "32    4059.0\n",
       "33    4026.0\n",
       "34    4022.0\n",
       "35    4090.0\n",
       "36    4112.0\n",
       "37    4138.0\n",
       "38    4266.0\n",
       "39    4316.0\n",
       "40    4248.0\n",
       "41       NaN\n",
       "Name: Births  (1,000), dtype: float64"
      ]
     },
     "execution_count": 7,
     "metadata": {},
     "output_type": "execute_result"
    }
   ],
   "source": [
    "df['Births  (1,000)'] = df['Births  (1,000)'].str.replace(',', '').dropna(axis=0).astype(int)\n",
    "df['Births  (1,000)']"
   ]
  },
  {
   "cell_type": "code",
   "execution_count": 8,
   "metadata": {
    "collapsed": false
   },
   "outputs": [
    {
     "data": {
      "text/plain": [
       "0     1712.0\n",
       "1     1828.0\n",
       "2     1921.0\n",
       "3     1928.0\n",
       "4     1964.0\n",
       "5     1973.0\n",
       "6     1934.0\n",
       "7     1893.0\n",
       "8     1909.0\n",
       "9     1900.0\n",
       "10    1928.0\n",
       "11    1914.0\n",
       "12    1990.0\n",
       "13    1978.0\n",
       "14    1975.0\n",
       "15    2019.0\n",
       "16    2039.0\n",
       "17    2086.0\n",
       "18    2105.0\n",
       "19    2123.0\n",
       "20    2168.0\n",
       "21    2150.0\n",
       "22    2148.0\n",
       "23    2170.0\n",
       "24    2176.0\n",
       "25    2269.0\n",
       "26    2279.0\n",
       "27    2312.0\n",
       "28    2315.0\n",
       "29    2314.0\n",
       "30    2337.0\n",
       "31    2391.0\n",
       "32    2403.0\n",
       "33    2416.0\n",
       "34    2443.0\n",
       "35    2448.0\n",
       "36    2398.0\n",
       "37    2448.0\n",
       "38    2426.0\n",
       "39    2424.0\n",
       "40    2473.0\n",
       "41       NaN\n",
       "Name: Deaths (1,000), dtype: float64"
      ]
     },
     "execution_count": 8,
     "metadata": {},
     "output_type": "execute_result"
    }
   ],
   "source": [
    "df['Deaths (1,000)'] = df['Deaths (1,000)'].str.replace(',', '').dropna(axis=0).astype(int)\n",
    "df['Deaths (1,000)']"
   ]
  },
  {
   "cell_type": "code",
   "execution_count": 9,
   "metadata": {
    "collapsed": false
   },
   "outputs": [
    {
     "data": {
      "text/plain": [
       "<matplotlib.text.Text at 0xfe0c978>"
      ]
     },
     "execution_count": 9,
     "metadata": {},
     "output_type": "execute_result"
    },
    {
     "data": {
      "image/png": "[encoded data removed]",
      "text/plain": [
       "<matplotlib.figure.Figure at 0xfb64ba8>"
      ]
     },
     "metadata": {},
     "output_type": "display_data"
    }
   ],
   "source": [
    "ax = df.plot(x='Year', y='Births  (1,000)')\n",
    "df.plot(x='Year', y='Deaths (1,000)', ax=ax)\n",
    "ax.set_ylabel('Population (1,000)')"
   ]
  },
  {
   "cell_type": "code",
   "execution_count": 10,
   "metadata": {
    "collapsed": false
   },
   "outputs": [
    {
     "data": {
      "text/plain": [
       "<matplotlib.axes._subplots.AxesSubplot at 0xfef4278>"
      ]
     },
     "execution_count": 10,
     "metadata": {},
     "output_type": "execute_result"
    },
    {
     "data": {
      "image/png": "[encoded data removed]",
      "text/plain": [
       "<matplotlib.figure.Figure at 0xfdd18d0>"
      ]
     },
     "metadata": {},
     "output_type": "display_data"
    }
   ],
   "source": [
    "df.plot(x='Year', y='Deaths (1,000)')"
   ]
  },
  {
   "cell_type": "code",
   "execution_count": 11,
   "metadata": {
    "collapsed": false
   },
   "outputs": [
    {
     "data": {
      "text/html": [
       "<div>\n",
       "<table border=\"1\" class=\"dataframe\">\n",
       "  <thead>\n",
       "    <tr style=\"text-align: right;\">\n",
       "      <th></th>\n",
       "      <th>Births  (1,000)</th>\n",
       "      <th>Deaths (1,000)</th>\n",
       "      <th>Infant Deaths (1,000)</th>\n",
       "      <th>Births Rate Per 1000</th>\n",
       "      <th>Death Rate per 1000</th>\n",
       "      <th>Infant Death Rate Per 1000</th>\n",
       "    </tr>\n",
       "  </thead>\n",
       "  <tbody>\n",
       "    <tr>\n",
       "      <th>count</th>\n",
       "      <td>41.000000</td>\n",
       "      <td>41.000000</td>\n",
       "      <td>41.000000</td>\n",
       "      <td>41.000000</td>\n",
       "      <td>41.000000</td>\n",
       "      <td>41.000000</td>\n",
       "    </tr>\n",
       "    <tr>\n",
       "      <th>mean</th>\n",
       "      <td>3804.170732</td>\n",
       "      <td>2147.000000</td>\n",
       "      <td>42.243902</td>\n",
       "      <td>15.485366</td>\n",
       "      <td>8.702439</td>\n",
       "      <td>11.334146</td>\n",
       "    </tr>\n",
       "    <tr>\n",
       "      <th>std</th>\n",
       "      <td>337.439098</td>\n",
       "      <td>214.717489</td>\n",
       "      <td>17.981630</td>\n",
       "      <td>1.768412</td>\n",
       "      <td>0.366393</td>\n",
       "      <td>5.043640</td>\n",
       "    </tr>\n",
       "    <tr>\n",
       "      <th>min</th>\n",
       "      <td>3137.000000</td>\n",
       "      <td>1712.000000</td>\n",
       "      <td>28.000000</td>\n",
       "      <td>13.900000</td>\n",
       "      <td>8.000000</td>\n",
       "      <td>6.600000</td>\n",
       "    </tr>\n",
       "    <tr>\n",
       "      <th>25%</th>\n",
       "      <td>3629.000000</td>\n",
       "      <td>1964.000000</td>\n",
       "      <td>28.000000</td>\n",
       "      <td>14.300000</td>\n",
       "      <td>8.500000</td>\n",
       "      <td>7.200000</td>\n",
       "    </tr>\n",
       "    <tr>\n",
       "      <th>50%</th>\n",
       "      <td>3891.000000</td>\n",
       "      <td>2148.000000</td>\n",
       "      <td>39.000000</td>\n",
       "      <td>15.100000</td>\n",
       "      <td>8.600000</td>\n",
       "      <td>10.000000</td>\n",
       "    </tr>\n",
       "    <tr>\n",
       "      <th>75%</th>\n",
       "      <td>4059.000000</td>\n",
       "      <td>2337.000000</td>\n",
       "      <td>46.000000</td>\n",
       "      <td>15.800000</td>\n",
       "      <td>8.800000</td>\n",
       "      <td>13.800000</td>\n",
       "    </tr>\n",
       "    <tr>\n",
       "      <th>max</th>\n",
       "      <td>4316.000000</td>\n",
       "      <td>2473.000000</td>\n",
       "      <td>111.000000</td>\n",
       "      <td>23.700000</td>\n",
       "      <td>9.500000</td>\n",
       "      <td>26.000000</td>\n",
       "    </tr>\n",
       "  </tbody>\n",
       "</table>\n",
       "</div>"
      ],
      "text/plain": [
       "       Births  (1,000)  Deaths (1,000)  Infant Deaths (1,000)  \\\n",
       "count        41.000000       41.000000              41.000000   \n",
       "mean       3804.170732     2147.000000              42.243902   \n",
       "std         337.439098      214.717489              17.981630   \n",
       "min        3137.000000     1712.000000              28.000000   \n",
       "25%        3629.000000     1964.000000              28.000000   \n",
       "50%        3891.000000     2148.000000              39.000000   \n",
       "75%        4059.000000     2337.000000              46.000000   \n",
       "max        4316.000000     2473.000000             111.000000   \n",
       "\n",
       "       Births Rate Per 1000   Death Rate per 1000  Infant Death Rate Per 1000  \n",
       "count              41.000000            41.000000                   41.000000  \n",
       "mean               15.485366             8.702439                   11.334146  \n",
       "std                 1.768412             0.366393                    5.043640  \n",
       "min                13.900000             8.000000                    6.600000  \n",
       "25%                14.300000             8.500000                    7.200000  \n",
       "50%                15.100000             8.600000                   10.000000  \n",
       "75%                15.800000             8.800000                   13.800000  \n",
       "max                23.700000             9.500000                   26.000000  "
      ]
     },
     "execution_count": 11,
     "metadata": {},
     "output_type": "execute_result"
    }
   ],
   "source": [
    "df.describe()"
   ]
  }
 ],
 "metadata": {
  "kernelspec": {
   "display_name": "Python 3",
   "language": "python",
   "name": "python3"
  },
  "language_info": {
   "codemirror_mode": {
    "name": "ipython",
    "version": 3
   },
   "file_extension": ".py",
   "mimetype": "text/x-python",
   "name": "python",
   "nbconvert_exporter": "python",
   "pygments_lexer": "ipython3",
   "version": "3.6.0"
  }
 },
 "nbformat": 4,
 "nbformat_minor": 2
}
